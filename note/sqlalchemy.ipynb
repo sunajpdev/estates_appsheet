{
 "metadata": {
  "language_info": {
   "codemirror_mode": {
    "name": "ipython",
    "version": 3
   },
   "file_extension": ".py",
   "mimetype": "text/x-python",
   "name": "python",
   "nbconvert_exporter": "python",
   "pygments_lexer": "ipython3",
   "version": "3.8.3"
  },
  "orig_nbformat": 2,
  "kernelspec": {
   "name": "python383jvsc74a57bd0ec74408682badb6ad18dc6e828b44513293bdd38f230e144339c70b4ce4cad45",
   "display_name": "Python 3.8.3 64-bit ('3.8.3': pyenv)"
  }
 },
 "nbformat": 4,
 "nbformat_minor": 2,
 "cells": [
  {
   "source": [
    "!pip3 install sqlalchemy"
   ],
   "cell_type": "code",
   "metadata": {},
   "execution_count": 45,
   "outputs": [
    {
     "output_type": "stream",
     "name": "stdout",
     "text": [
      "Requirement already satisfied: sqlalchemy in /home/suna/.anyenv/envs/pyenv/versions/3.8.3/lib/python3.8/site-packages (1.4.17)\n",
      "Requirement already satisfied: greenlet!=0.4.17 in /home/suna/.anyenv/envs/pyenv/versions/3.8.3/lib/python3.8/site-packages (from sqlalchemy) (1.1.0)\n"
     ]
    }
   ]
  },
  {
   "cell_type": "code",
   "execution_count": 56,
   "metadata": {},
   "outputs": [],
   "source": [
    "from sqlalchemy import create_engine\n",
    "from sqlalchemy.orm import scoped_session, sessionmaker\n",
    "from sqlalchemy.ext.declarative import declarative_base"
   ]
  },
  {
   "cell_type": "code",
   "execution_count": 66,
   "metadata": {},
   "outputs": [],
   "source": [
    "import pandas as pd\n",
    "import os"
   ]
  },
  {
   "cell_type": "code",
   "execution_count": 58,
   "metadata": {},
   "outputs": [],
   "source": [
    "database_file = os.path.join(os.path.abspath(os.getcwd()), 'data_db')"
   ]
  },
  {
   "cell_type": "code",
   "execution_count": 77,
   "metadata": {},
   "outputs": [],
   "source": [
    "# engine = create_engine('sqlite:///'+ database_file, convert_unicode=True, echo=True)\n",
    "engine = create_engine('sqlite:///'+ database_file, echo=True)"
   ]
  },
  {
   "cell_type": "code",
   "execution_count": 78,
   "metadata": {},
   "outputs": [],
   "source": [
    "db_session = scoped_session(\n",
    "    sessionmaker(\n",
    "        autocommit=False,\n",
    "        autoflush=False,\n",
    "        bind = engine\n",
    "    )\n",
    ")"
   ]
  },
  {
   "cell_type": "code",
   "execution_count": 79,
   "metadata": {},
   "outputs": [],
   "source": [
    "Base = declarative_base()\n",
    "Base.query = db_session.query_property()"
   ]
  },
  {
   "cell_type": "code",
   "execution_count": 80,
   "metadata": {},
   "outputs": [],
   "source": [
    "from sqlalchemy import Column, Integer, Float, text, DateTime\n",
    "from sqlalchemy.sql.functions import current_timestamp\n",
    "import time"
   ]
  },
  {
   "cell_type": "code",
   "execution_count": 81,
   "metadata": {},
   "outputs": [],
   "source": [
    "class Estate(Base):\n",
    "    __tablename__ = 'estates'\n",
    "    id = Column(Text, primary_key=True)\n",
    "    note = Column(Text, unique=False)\n",
    "    price= Column(Integer, unique=False)\n",
    "    shop= Column(Text, unique=False)\n",
    "    place= Column(Text, unique=False)\n",
    "    prefecture= Column(Text, unique=False)\n",
    "    city= Column(Text, unique=False)\n",
    "    station= Column(Text, unique=False)\n",
    "    route= Column(Text, unique=False)\n",
    "    work= Column(Text, unique=False)\n",
    "    area= Column(Float, unique=False)\n",
    "    buildingarea= Column(Float, unique=False)\n",
    "    ldk= Column(Text, unique=False)\n",
    "    buildingyear= Column(Text, unique=False)\n",
    "    url= Column(Text, unique=False)\n",
    "    # created= Column(DateTime, nullable=False, server_default=current_timestamp)\n",
    "    created= Column(DateTime)\n",
    "\n",
    "    def __init__(self, id=None, note=None, price=None, shop=None, place=None, prefecture=None, city=None, station=None,route=None, work=None, area=None, buildingarea=None, ldk=None, buildingyear=None, url=None):\n",
    "        self.id = id\n",
    "        self.note = note\n",
    "        self.price = price\n",
    "        self.shop = shop \n",
    "        self.place = place \n",
    "        self.prefecture = prefecture\n",
    "        self.city = city \n",
    "        self.station = station \n",
    "        self.route = route \n",
    "        self.work = work\n",
    "        self.area = area \n",
    "        self.buildingarea = buildingarea\n",
    "        self.ldk = ldk \n",
    "        self.buildingyear = buildingyear\n",
    "        self.url = url\n",
    "\n"
   ]
  },
  {
   "cell_type": "code",
   "execution_count": 82,
   "metadata": {},
   "outputs": [
    {
     "output_type": "stream",
     "name": "stdout",
     "text": [
      "2021-06-12 23:05:09,340 INFO sqlalchemy.engine.Engine BEGIN (implicit)\n",
      "2021-06-12 23:05:09,341 INFO sqlalchemy.engine.Engine PRAGMA main.table_info(\"estates\")\n",
      "2021-06-12 23:05:09,343 INFO sqlalchemy.engine.Engine [raw sql] ()\n",
      "2021-06-12 23:05:09,357 INFO sqlalchemy.engine.Engine COMMIT\n"
     ]
    }
   ],
   "source": [
    "Base.metadata.create_all(bind=engine)"
   ]
  },
  {
   "source": [
    "# データの型\n",
    "マニュアル\n",
    "Column and Data Types — SQLAlchemy 1.4 Documentation : https://docs.sqlalchemy.org/en/14/core/type_basics.html\n"
   ],
   "cell_type": "markdown",
   "metadata": {}
  },
  {
   "cell_type": "code",
   "execution_count": 105,
   "metadata": {
    "tags": []
   },
   "outputs": [],
   "source": [
    "def read_data():\n",
    "    estate_df = pd.read_csv(\"estate.csv\")\n",
    "\n",
    "    for index, _df in estate_df.iterrows():\n",
    "        rec = len(db_session.query(Estate).filter(Estate.id==_df['id']).all())\n",
    "        if rec == 0:\n",
    "            row = Estate(\n",
    "                id=_df['id'],\n",
    "                note=_df['note'],\n",
    "                price=_df['price'],\n",
    "                shop=_df['shop'],\n",
    "                place=_df['place'],\n",
    "                prefecture=_df['prefecture'],\n",
    "                city=_df['city'],\n",
    "                station=_df['station'],\n",
    "                route=_df['route'],\n",
    "                work=_df['work'],\n",
    "                area=_df['area'],\n",
    "                buildingarea=_df['buildingarea'],\n",
    "                ldk=_df['ldk'],\n",
    "                buildingyear=_df['buildingyear'],\n",
    "                url=_df['url']\n",
    "                )\n",
    "            db_session.add(row)\n",
    "    db_session.commit()"
   ]
  },
  {
   "cell_type": "code",
   "execution_count": 106,
   "metadata": {
    "tags": [
     "outputPrepend"
    ]
   },
   "outputs": [
    {
     "output_type": "stream",
     "name": "stdout",
     "text": [
      "estates.route AS estates_route, estates.work AS estates_work, estates.area AS estates_area, estates.buildingarea AS estates_buildingarea, estates.ldk AS estates_ldk, estates.buildingyear AS estates_buildingyear, estates.url AS estates_url, estates.created AS estates_created \n",
      "FROM estates \n",
      "WHERE estates.id = ?\n",
      "2021-06-12 23:25:13,517 INFO sqlalchemy.engine.Engine [cached since 337.8s ago] ('b77e8d4a3ca8efe409b5942ef07e5054f3e9965ff3fa997ca89e8dd179e69abb',)\n",
      "2021-06-12 23:25:13,522 INFO sqlalchemy.engine.Engine SELECT estates.id AS estates_id, estates.note AS estates_note, estates.price AS estates_price, estates.shop AS estates_shop, estates.place AS estates_place, estates.prefecture AS estates_prefecture, estates.city AS estates_city, estates.station AS estates_station, estates.route AS estates_route, estates.work AS estates_work, estates.area AS estates_area, estates.buildingarea AS estates_buildingarea, estates.ldk AS estates_ldk, estates.buildingyear AS estates_buildingyear, estates.url AS estates_url, estates.created AS estates_created \n",
      "FROM estates \n",
      "WHERE estates.id = ?\n",
      "2021-06-12 23:25:13,524 INFO sqlalchemy.engine.Engine [cached since 337.8s ago] ('b77e8d4a3ca8efe409b5942ef07e5054f3e9965ff3fa997ca89e8dd179e69abb',)\n",
      "2021-06-12 23:25:13,533 INFO sqlalchemy.engine.Engine SELECT estates.id AS estates_id, estates.note AS estates_note, estates.price AS estates_price, estates.shop AS estates_shop, estates.place AS estates_place, estates.prefecture AS estates_prefecture, estates.city AS estates_city, estates.station AS estates_station, estates.route AS estates_route, estates.work AS estates_work, estates.area AS estates_area, estates.buildingarea AS estates_buildingarea, estates.ldk AS estates_ldk, estates.buildingyear AS estates_buildingyear, estates.url AS estates_url, estates.created AS estates_created \n",
      "FROM estates \n",
      "WHERE estates.id = ?\n",
      "2021-06-12 23:25:13,534 INFO sqlalchemy.engine.Engine [cached since 337.8s ago] ('26d587bb7087ed37a47ce38ae2e9a864083606b91307e034917034f2d90c773e',)\n",
      "2021-06-12 23:25:13,545 INFO sqlalchemy.engine.Engine SELECT estates.id AS estates_id, estates.note AS estates_note, estates.price AS estates_price, estates.shop AS estates_shop, estates.place AS estates_place, estates.prefecture AS estates_prefecture, estates.city AS estates_city, estates.station AS estates_station, estates.route AS estates_route, estates.work AS estates_work, estates.area AS estates_area, estates.buildingarea AS estates_buildingarea, estates.ldk AS estates_ldk, estates.buildingyear AS estates_buildingyear, estates.url AS estates_url, estates.created AS estates_created \n",
      "FROM estates \n",
      "WHERE estates.id = ?\n",
      "2021-06-12 23:25:13,547 INFO sqlalchemy.engine.Engine [cached since 337.8s ago] ('b8d0377052f79f8fb6c2348de141b96f9190ad3d2827ee8f851ba5dabc1a1168',)\n",
      "2021-06-12 23:25:13,561 INFO sqlalchemy.engine.Engine SELECT estates.id AS estates_id, estates.note AS estates_note, estates.price AS estates_price, estates.shop AS estates_shop, estates.place AS estates_place, estates.prefecture AS estates_prefecture, estates.city AS estates_city, estates.station AS estates_station, estates.route AS estates_route, estates.work AS estates_work, estates.area AS estates_area, estates.buildingarea AS estates_buildingarea, estates.ldk AS estates_ldk, estates.buildingyear AS estates_buildingyear, estates.url AS estates_url, estates.created AS estates_created \n",
      "FROM estates \n",
      "WHERE estates.id = ?\n",
      "2021-06-12 23:25:13,562 INFO sqlalchemy.engine.Engine [cached since 337.8s ago] ('b8d0377052f79f8fb6c2348de141b96f9190ad3d2827ee8f851ba5dabc1a1168',)\n",
      "2021-06-12 23:25:13,567 INFO sqlalchemy.engine.Engine SELECT estates.id AS estates_id, estates.note AS estates_note, estates.price AS estates_price, estates.shop AS estates_shop, estates.place AS estates_place, estates.prefecture AS estates_prefecture, estates.city AS estates_city, estates.station AS estates_station, estates.route AS estates_route, estates.work AS estates_work, estates.area AS estates_area, estates.buildingarea AS estates_buildingarea, estates.ldk AS estates_ldk, estates.buildingyear AS estates_buildingyear, estates.url AS estates_url, estates.created AS estates_created \n",
      "FROM estates \n",
      "WHERE estates.id = ?\n",
      "2021-06-12 23:25:13,568 INFO sqlalchemy.engine.Engine [cached since 337.8s ago] ('b8d0377052f79f8fb6c2348de141b96f9190ad3d2827ee8f851ba5dabc1a1168',)\n",
      "2021-06-12 23:25:13,573 INFO sqlalchemy.engine.Engine SELECT estates.id AS estates_id, estates.note AS estates_note, estates.price AS estates_price, estates.shop AS estates_shop, estates.place AS estates_place, estates.prefecture AS estates_prefecture, estates.city AS estates_city, estates.station AS estates_station, estates.route AS estates_route, estates.work AS estates_work, estates.area AS estates_area, estates.buildingarea AS estates_buildingarea, estates.ldk AS estates_ldk, estates.buildingyear AS estates_buildingyear, estates.url AS estates_url, estates.created AS estates_created \n",
      "FROM estates \n",
      "WHERE estates.id = ?\n",
      "2021-06-12 23:25:13,574 INFO sqlalchemy.engine.Engine [cached since 337.8s ago] ('26d587bb7087ed37a47ce38ae2e9a864083606b91307e034917034f2d90c773e',)\n",
      "2021-06-12 23:25:13,609 INFO sqlalchemy.engine.Engine SELECT estates.id AS estates_id, estates.note AS estates_note, estates.price AS estates_price, estates.shop AS estates_shop, estates.place AS estates_place, estates.prefecture AS estates_prefecture, estates.city AS estates_city, estates.station AS estates_station, estates.route AS estates_route, estates.work AS estates_work, estates.area AS estates_area, estates.buildingarea AS estates_buildingarea, estates.ldk AS estates_ldk, estates.buildingyear AS estates_buildingyear, estates.url AS estates_url, estates.created AS estates_created \n",
      "FROM estates \n",
      "WHERE estates.id = ?\n",
      "2021-06-12 23:25:13,610 INFO sqlalchemy.engine.Engine [cached since 337.9s ago] ('e4ed2b700b0b661bf4ea9973787cca1455d56a4657339ffca12f8f03637c1520',)\n",
      "2021-06-12 23:25:13,628 INFO sqlalchemy.engine.Engine SELECT estates.id AS estates_id, estates.note AS estates_note, estates.price AS estates_price, estates.shop AS estates_shop, estates.place AS estates_place, estates.prefecture AS estates_prefecture, estates.city AS estates_city, estates.station AS estates_station, estates.route AS estates_route, estates.work AS estates_work, estates.area AS estates_area, estates.buildingarea AS estates_buildingarea, estates.ldk AS estates_ldk, estates.buildingyear AS estates_buildingyear, estates.url AS estates_url, estates.created AS estates_created \n",
      "FROM estates \n",
      "WHERE estates.id = ?\n",
      "2021-06-12 23:25:13,629 INFO sqlalchemy.engine.Engine [cached since 337.9s ago] ('b0284f09f28f5db101e5b05c010166c58a03137592df9b933c59e3e6c24c60de',)\n",
      "2021-06-12 23:25:13,637 INFO sqlalchemy.engine.Engine SELECT estates.id AS estates_id, estates.note AS estates_note, estates.price AS estates_price, estates.shop AS estates_shop, estates.place AS estates_place, estates.prefecture AS estates_prefecture, estates.city AS estates_city, estates.station AS estates_station, estates.route AS estates_route, estates.work AS estates_work, estates.area AS estates_area, estates.buildingarea AS estates_buildingarea, estates.ldk AS estates_ldk, estates.buildingyear AS estates_buildingyear, estates.url AS estates_url, estates.created AS estates_created \n",
      "FROM estates \n",
      "WHERE estates.id = ?\n",
      "2021-06-12 23:25:13,639 INFO sqlalchemy.engine.Engine [cached since 337.9s ago] ('b0284f09f28f5db101e5b05c010166c58a03137592df9b933c59e3e6c24c60de',)\n",
      "2021-06-12 23:25:13,658 INFO sqlalchemy.engine.Engine SELECT estates.id AS estates_id, estates.note AS estates_note, estates.price AS estates_price, estates.shop AS estates_shop, estates.place AS estates_place, estates.prefecture AS estates_prefecture, estates.city AS estates_city, estates.station AS estates_station, estates.route AS estates_route, estates.work AS estates_work, estates.area AS estates_area, estates.buildingarea AS estates_buildingarea, estates.ldk AS estates_ldk, estates.buildingyear AS estates_buildingyear, estates.url AS estates_url, estates.created AS estates_created \n",
      "FROM estates \n",
      "WHERE estates.id = ?\n",
      "2021-06-12 23:25:13,659 INFO sqlalchemy.engine.Engine [cached since 337.9s ago] ('6e24b5782b12d454585af85d1af74ef40710fb54e251a9495fb7e7b5e4a3cedf',)\n",
      "2021-06-12 23:25:13,672 INFO sqlalchemy.engine.Engine SELECT estates.id AS estates_id, estates.note AS estates_note, estates.price AS estates_price, estates.shop AS estates_shop, estates.place AS estates_place, estates.prefecture AS estates_prefecture, estates.city AS estates_city, estates.station AS estates_station, estates.route AS estates_route, estates.work AS estates_work, estates.area AS estates_area, estates.buildingarea AS estates_buildingarea, estates.ldk AS estates_ldk, estates.buildingyear AS estates_buildingyear, estates.url AS estates_url, estates.created AS estates_created \n",
      "FROM estates \n",
      "WHERE estates.id = ?\n",
      "2021-06-12 23:25:13,675 INFO sqlalchemy.engine.Engine [cached since 337.9s ago] ('cb17b03aaa31da87d135d081f8f0b821f16370a23c96df8073d2b6667966d1f7',)\n",
      "2021-06-12 23:25:13,680 INFO sqlalchemy.engine.Engine SELECT estates.id AS estates_id, estates.note AS estates_note, estates.price AS estates_price, estates.shop AS estates_shop, estates.place AS estates_place, estates.prefecture AS estates_prefecture, estates.city AS estates_city, estates.station AS estates_station, estates.route AS estates_route, estates.work AS estates_work, estates.area AS estates_area, estates.buildingarea AS estates_buildingarea, estates.ldk AS estates_ldk, estates.buildingyear AS estates_buildingyear, estates.url AS estates_url, estates.created AS estates_created \n",
      "FROM estates \n",
      "WHERE estates.id = ?\n",
      "2021-06-12 23:25:13,684 INFO sqlalchemy.engine.Engine [cached since 337.9s ago] ('aff7bebf917b0493358aa353e303d4b3fadf1823685f0ce80637e160e13f710e',)\n",
      "2021-06-12 23:25:13,689 INFO sqlalchemy.engine.Engine SELECT estates.id AS estates_id, estates.note AS estates_note, estates.price AS estates_price, estates.shop AS estates_shop, estates.place AS estates_place, estates.prefecture AS estates_prefecture, estates.city AS estates_city, estates.station AS estates_station, estates.route AS estates_route, estates.work AS estates_work, estates.area AS estates_area, estates.buildingarea AS estates_buildingarea, estates.ldk AS estates_ldk, estates.buildingyear AS estates_buildingyear, estates.url AS estates_url, estates.created AS estates_created \n",
      "FROM estates \n",
      "WHERE estates.id = ?\n",
      "2021-06-12 23:25:13,690 INFO sqlalchemy.engine.Engine [cached since 337.9s ago] ('b2a5bdd315bba71cf21852d99f6f9348398811c80c949d2f1d2f5719199d9042',)\n",
      "2021-06-12 23:25:13,699 INFO sqlalchemy.engine.Engine SELECT estates.id AS estates_id, estates.note AS estates_note, estates.price AS estates_price, estates.shop AS estates_shop, estates.place AS estates_place, estates.prefecture AS estates_prefecture, estates.city AS estates_city, estates.station AS estates_station, estates.route AS estates_route, estates.work AS estates_work, estates.area AS estates_area, estates.buildingarea AS estates_buildingarea, estates.ldk AS estates_ldk, estates.buildingyear AS estates_buildingyear, estates.url AS estates_url, estates.created AS estates_created \n",
      "FROM estates \n",
      "WHERE estates.id = ?\n",
      "2021-06-12 23:25:13,699 INFO sqlalchemy.engine.Engine [cached since 337.9s ago] ('e09e6aa81c4404ac013d54baef2dbad40a75f52cdc01d3753328dda780c8d47d',)\n",
      "2021-06-12 23:25:13,704 INFO sqlalchemy.engine.Engine SELECT estates.id AS estates_id, estates.note AS estates_note, estates.price AS estates_price, estates.shop AS estates_shop, estates.place AS estates_place, estates.prefecture AS estates_prefecture, estates.city AS estates_city, estates.station AS estates_station, estates.route AS estates_route, estates.work AS estates_work, estates.area AS estates_area, estates.buildingarea AS estates_buildingarea, estates.ldk AS estates_ldk, estates.buildingyear AS estates_buildingyear, estates.url AS estates_url, estates.created AS estates_created \n",
      "FROM estates \n",
      "WHERE estates.id = ?\n",
      "2021-06-12 23:25:13,705 INFO sqlalchemy.engine.Engine [cached since 338s ago] ('5812faf8f32e172b6890835a18d978b4bf3b9d18c57714995d325990df1e3c7e',)\n",
      "2021-06-12 23:25:13,717 INFO sqlalchemy.engine.Engine SELECT estates.id AS estates_id, estates.note AS estates_note, estates.price AS estates_price, estates.shop AS estates_shop, estates.place AS estates_place, estates.prefecture AS estates_prefecture, estates.city AS estates_city, estates.station AS estates_station, estates.route AS estates_route, estates.work AS estates_work, estates.area AS estates_area, estates.buildingarea AS estates_buildingarea, estates.ldk AS estates_ldk, estates.buildingyear AS estates_buildingyear, estates.url AS estates_url, estates.created AS estates_created \n",
      "FROM estates \n",
      "WHERE estates.id = ?\n",
      "2021-06-12 23:25:13,718 INFO sqlalchemy.engine.Engine [cached since 338s ago] ('a7a6a7b636e1d8f9cf51832179dfdd452d85dc27ff256a20d07f0de622c3096e',)\n",
      "2021-06-12 23:25:13,721 INFO sqlalchemy.engine.Engine SELECT estates.id AS estates_id, estates.note AS estates_note, estates.price AS estates_price, estates.shop AS estates_shop, estates.place AS estates_place, estates.prefecture AS estates_prefecture, estates.city AS estates_city, estates.station AS estates_station, estates.route AS estates_route, estates.work AS estates_work, estates.area AS estates_area, estates.buildingarea AS estates_buildingarea, estates.ldk AS estates_ldk, estates.buildingyear AS estates_buildingyear, estates.url AS estates_url, estates.created AS estates_created \n",
      "FROM estates \n",
      "WHERE estates.id = ?\n",
      "2021-06-12 23:25:13,723 INFO sqlalchemy.engine.Engine [cached since 338s ago] ('3a93d49daf43f8355802c1431003927f05bbd049469dc63e09e48cd2e7a68507',)\n",
      "2021-06-12 23:25:13,730 INFO sqlalchemy.engine.Engine SELECT estates.id AS estates_id, estates.note AS estates_note, estates.price AS estates_price, estates.shop AS estates_shop, estates.place AS estates_place, estates.prefecture AS estates_prefecture, estates.city AS estates_city, estates.station AS estates_station, estates.route AS estates_route, estates.work AS estates_work, estates.area AS estates_area, estates.buildingarea AS estates_buildingarea, estates.ldk AS estates_ldk, estates.buildingyear AS estates_buildingyear, estates.url AS estates_url, estates.created AS estates_created \n",
      "FROM estates \n",
      "WHERE estates.id = ?\n",
      "2021-06-12 23:25:13,731 INFO sqlalchemy.engine.Engine [cached since 338s ago] ('30181d49a5d424fee26d649733f538427395f6d3c3c3ece848ef27b8e7ec3e1b',)\n",
      "2021-06-12 23:25:13,735 INFO sqlalchemy.engine.Engine SELECT estates.id AS estates_id, estates.note AS estates_note, estates.price AS estates_price, estates.shop AS estates_shop, estates.place AS estates_place, estates.prefecture AS estates_prefecture, estates.city AS estates_city, estates.station AS estates_station, estates.route AS estates_route, estates.work AS estates_work, estates.area AS estates_area, estates.buildingarea AS estates_buildingarea, estates.ldk AS estates_ldk, estates.buildingyear AS estates_buildingyear, estates.url AS estates_url, estates.created AS estates_created \n",
      "FROM estates \n",
      "WHERE estates.id = ?\n",
      "2021-06-12 23:25:13,741 INFO sqlalchemy.engine.Engine [cached since 338s ago] ('8acaf16449a3e793802e730b7213ec68469d1a6247d7808947f4d159e16dcbde',)\n",
      "2021-06-12 23:25:13,747 INFO sqlalchemy.engine.Engine SELECT estates.id AS estates_id, estates.note AS estates_note, estates.price AS estates_price, estates.shop AS estates_shop, estates.place AS estates_place, estates.prefecture AS estates_prefecture, estates.city AS estates_city, estates.station AS estates_station, estates.route AS estates_route, estates.work AS estates_work, estates.area AS estates_area, estates.buildingarea AS estates_buildingarea, estates.ldk AS estates_ldk, estates.buildingyear AS estates_buildingyear, estates.url AS estates_url, estates.created AS estates_created \n",
      "FROM estates \n",
      "WHERE estates.id = ?\n",
      "2021-06-12 23:25:13,748 INFO sqlalchemy.engine.Engine [cached since 338s ago] ('e2f4e416355e555c4c56767f8c31a5f6dae95f44281053270957a4adc0dcdd49',)\n",
      "2021-06-12 23:25:13,754 INFO sqlalchemy.engine.Engine SELECT estates.id AS estates_id, estates.note AS estates_note, estates.price AS estates_price, estates.shop AS estates_shop, estates.place AS estates_place, estates.prefecture AS estates_prefecture, estates.city AS estates_city, estates.station AS estates_station, estates.route AS estates_route, estates.work AS estates_work, estates.area AS estates_area, estates.buildingarea AS estates_buildingarea, estates.ldk AS estates_ldk, estates.buildingyear AS estates_buildingyear, estates.url AS estates_url, estates.created AS estates_created \n",
      "FROM estates \n",
      "WHERE estates.id = ?\n",
      "2021-06-12 23:25:13,755 INFO sqlalchemy.engine.Engine [cached since 338s ago] ('240c3ac8927477c2d7f3c56ab5502ae83d332ab87ef04c6bf88cec3e6ab9ba34',)\n",
      "2021-06-12 23:25:13,770 INFO sqlalchemy.engine.Engine SELECT estates.id AS estates_id, estates.note AS estates_note, estates.price AS estates_price, estates.shop AS estates_shop, estates.place AS estates_place, estates.prefecture AS estates_prefecture, estates.city AS estates_city, estates.station AS estates_station, estates.route AS estates_route, estates.work AS estates_work, estates.area AS estates_area, estates.buildingarea AS estates_buildingarea, estates.ldk AS estates_ldk, estates.buildingyear AS estates_buildingyear, estates.url AS estates_url, estates.created AS estates_created \n",
      "FROM estates \n",
      "WHERE estates.id = ?\n",
      "2021-06-12 23:25:13,771 INFO sqlalchemy.engine.Engine [cached since 338s ago] ('56a0a4774e9f15cf96baa6bca8db9a7523f853c1e45650a6adf639f75bf26d87',)\n",
      "2021-06-12 23:25:13,776 INFO sqlalchemy.engine.Engine SELECT estates.id AS estates_id, estates.note AS estates_note, estates.price AS estates_price, estates.shop AS estates_shop, estates.place AS estates_place, estates.prefecture AS estates_prefecture, estates.city AS estates_city, estates.station AS estates_station, estates.route AS estates_route, estates.work AS estates_work, estates.area AS estates_area, estates.buildingarea AS estates_buildingarea, estates.ldk AS estates_ldk, estates.buildingyear AS estates_buildingyear, estates.url AS estates_url, estates.created AS estates_created \n",
      "FROM estates \n",
      "WHERE estates.id = ?\n",
      "2021-06-12 23:25:13,786 INFO sqlalchemy.engine.Engine [cached since 338s ago] ('6387bb2259849ddc62e06efc76e931a132a570b0f1f86dd977d272670a818517',)\n",
      "2021-06-12 23:25:13,790 INFO sqlalchemy.engine.Engine SELECT estates.id AS estates_id, estates.note AS estates_note, estates.price AS estates_price, estates.shop AS estates_shop, estates.place AS estates_place, estates.prefecture AS estates_prefecture, estates.city AS estates_city, estates.station AS estates_station, estates.route AS estates_route, estates.work AS estates_work, estates.area AS estates_area, estates.buildingarea AS estates_buildingarea, estates.ldk AS estates_ldk, estates.buildingyear AS estates_buildingyear, estates.url AS estates_url, estates.created AS estates_created \n",
      "FROM estates \n",
      "WHERE estates.id = ?\n",
      "2021-06-12 23:25:13,791 INFO sqlalchemy.engine.Engine [cached since 338s ago] ('4e6e22be0c413918535395e34259a2894329346f1c9755c4dbfc2dcb9eb7e517',)\n",
      "2021-06-12 23:25:13,796 INFO sqlalchemy.engine.Engine SELECT estates.id AS estates_id, estates.note AS estates_note, estates.price AS estates_price, estates.shop AS estates_shop, estates.place AS estates_place, estates.prefecture AS estates_prefecture, estates.city AS estates_city, estates.station AS estates_station, estates.route AS estates_route, estates.work AS estates_work, estates.area AS estates_area, estates.buildingarea AS estates_buildingarea, estates.ldk AS estates_ldk, estates.buildingyear AS estates_buildingyear, estates.url AS estates_url, estates.created AS estates_created \n",
      "FROM estates \n",
      "WHERE estates.id = ?\n",
      "2021-06-12 23:25:13,798 INFO sqlalchemy.engine.Engine [cached since 338s ago] ('ebc6c87cda4202dc6f7d8a8a2fb7587ece90ef95d70aeb33a2eff3ff82ed64d6',)\n",
      "2021-06-12 23:25:13,805 INFO sqlalchemy.engine.Engine COMMIT\n"
     ]
    }
   ],
   "source": [
    "read_data()"
   ]
  },
  {
   "source": [
    "# CRUD操作"
   ],
   "cell_type": "markdown",
   "metadata": {}
  },
  {
   "cell_type": "code",
   "execution_count": 108,
   "metadata": {},
   "outputs": [
    {
     "output_type": "stream",
     "name": "stdout",
     "text": [
      "2021-06-12 23:26:12,708 INFO sqlalchemy.engine.Engine SELECT estates.id AS estates_id, estates.note AS estates_note, estates.price AS estates_price, estates.shop AS estates_shop, estates.place AS estates_place, estates.prefecture AS estates_prefecture, estates.city AS estates_city, estates.station AS estates_station, estates.route AS estates_route, estates.work AS estates_work, estates.area AS estates_area, estates.buildingarea AS estates_buildingarea, estates.ldk AS estates_ldk, estates.buildingyear AS estates_buildingyear, estates.url AS estates_url, estates.created AS estates_created \n",
      "FROM estates\n",
      "2021-06-12 23:26:12,718 INFO sqlalchemy.engine.Engine [cached since 610.1s ago] ()\n"
     ]
    }
   ],
   "source": [
    "db = db_session.query(Estate).all()"
   ]
  },
  {
   "cell_type": "code",
   "execution_count": 111,
   "metadata": {},
   "outputs": [
    {
     "output_type": "stream",
     "name": "stdout",
     "text": [
      "c1746f5fb40176236d146d8811960b0473cb109c339b4ccfcbfd503484a3e57d\nc4135b85973e0197b4e60e8a031952ab9fff51288af57083c2ccc03a23af8812\n43050007fb98689cbcd2c35e3c8b5037eb6f2240f59e3385eb41ee4afcde85ca\n5ce719e3b18480dc92c0c91a02fab53d0a4737534142fb0ed39db0addf132413\n76c62d9b592390086bd9d76d5ac0c6b179fafb560241a7b86b1ddd46c35d3411\n9104d1f624c104fd15f64284880803b570a26d5ae7740a8cad15a51a705727b9\n2e3f3a34c339fbfa7bdd9c0b6e78d654b49da34f55125b5416e93884ee5eb019\n0ae98b1e1170733eb67179916faa17eb3412a1b1e1788e78adcdcbb178ad0b45\nf9cf50576ddcc3870dbf619057c90fa8c15001098cfaa3d1c47377f314f614a5\n3f3085e4baba3f9b726b37ae833163d12e1cd33aec212900a71968f41d3d827f\n8dfcab283ebf4aa3700c2bce8adb725ebc6701133724694fceb612ca77404b93\ndf48d6fac64d6acf7665367855693409e198022b9b882b02582d8ce88d81db21\nd143be9d8f1a1c7768303fc7f55a8ce2e5a949f8778ee3bc6bad78fa124990f9\n3f3cf7c752cdef3789b59ba85f587303e9ae5faeef9baa06f99505c6e013798b\nf5d715f3513ab83b30b861a44527d5b3e59e5180eb5f53ff003e681d27a4b2d3\n10712ae16a43c5952a5f71ad925d4e7cf6fe108c869786a1a43fe378ef18a80a\n2c621352cf0a98ec680a51086bdda0bff654610bbec66404934f8ef546a1ad90\nd9133758f59167cfb63ad5b1cfaeecce7845f813121b10434ecde27b11c0a46e\n94758611a2f330db4ae56762e374a48ed679453b1d4051f3a5df49ea8317d41d\n1a96bba9e05ac0f8f0a63da6b4cd9c02310dfc6e2c66c8320984d1fc3435a6f4\n48cd380b7a3a89fe4c333b37acbccc8e2b18e3e3fd7e360c3e79152aad565e67\nba9d15f60c4006572947b7d8d1d2b5879a7991d925b284200d0668857b3ecbfb\n3d38e90871b13aa501901733cb1d5ff58d726dfb2fa66150aea83731e6737cbc\n730fcce88872bc56f2fa9e499525415e7a5d8f1d6cbbe09e88a867d8804c4cda\n64fa8e3ec1649e80ffe9dc480743261694f14bf072ae7fe12f1b5e7c180cc9c4\nb8f9c8f2d5736ba9a68b846685b5b3e66bc7666207ad9d1a6c4eaba62a2631b7\nb8d0377052f79f8fb6c2348de141b96f9190ad3d2827ee8f851ba5dabc1a1168\n0236fedd38330e4527993c90dc1e5dcfd3df8c3c38bd5abae857ee4fc00a8931\n6e24b5782b12d454585af85d1af74ef40710fb54e251a9495fb7e7b5e4a3cedf\ncb17b03aaa31da87d135d081f8f0b821f16370a23c96df8073d2b6667966d1f7\n6168eb5b571ae7495ead5cb51a00811a797f42886c55fe720f743975d2fc9a51\n595aa3c14f0830926b42fcdd1f24505c4592e580ecc1f84be757dc1622a288a8\nb7650a7b049fbaa07df8f0dd4b7979b6cde7b897cb6a9d306ff17d5b7162e3e7\n968932921683df726d15819a01521bc1e047ea019d0b3960ecc5e7ca0072f4f7\nf0fcdcd531686a92ba8d797a006e9da4ab1868387d32abf966f3a6f486550178\na7e092918178b79eae023c34623532acd275b62ea80fabcdfb7e52640c3888cc\n59cb594d06784e3b0031d762501b312c94cd32b077eac7a88bc82aebbafc7017\n0351b868be79866389f30f0b6f510312d4f621511229bcac71b4328a4da02d74\n82be56a7a9cb94d77f5a55e996760152c6cc1ae9fc8a49fd6f430c01336a04b8\n441fdadc880d24a6da80fef6be44002ec7870faccc0df0b395d1703b7466770a\n92644b277b2db459d9cc8cae5294cacc189d13481877c4e35801aa6bdbe14a22\n1ed4e2f612d5806911b855bdd7a4e7e46a5f7116ccc7992055d5b54b9bc2dc40\na48e993aad987e1c6d71ce60ff6e061858d9fc6815b71221ce51b81fabb53435\n97459bf2377ea14408fded8db8782fd7eae61f80e69d16b77c0ad3e630d8f94b\na29003ee519d9244101408ff0893f84edcf49f62ed43001a59b1baf4ac83789b\n8fc59e215c4fc842b7d7ac7b2b68a4dff8c08084a0b07b38d0f67e51104cb133\nfebe0d89dd7a61bacbc2044fceafb90edf58db7cc10549e21c568dc5c77eea5d\n5f08096c9bb48bb7de4603cb736d8e068f9fd07d22a8e45d0cf0ad0ee3d41ccd\nfe264e8246949736f1f0278988e9ceb15f3714a18a1243ea2f271d44f91fa391\n66fe19368ef3686e55ce69103312655c5fdba8758cc8306265358127409fe96e\nd1cdf2be64aaab768d28bf2913e6ac0323e4d9ace9317d545e843f8872029713\nb77e8d4a3ca8efe409b5942ef07e5054f3e9965ff3fa997ca89e8dd179e69abb\n26d587bb7087ed37a47ce38ae2e9a864083606b91307e034917034f2d90c773e\ne4ed2b700b0b661bf4ea9973787cca1455d56a4657339ffca12f8f03637c1520\nb0284f09f28f5db101e5b05c010166c58a03137592df9b933c59e3e6c24c60de\naff7bebf917b0493358aa353e303d4b3fadf1823685f0ce80637e160e13f710e\nb2a5bdd315bba71cf21852d99f6f9348398811c80c949d2f1d2f5719199d9042\ne09e6aa81c4404ac013d54baef2dbad40a75f52cdc01d3753328dda780c8d47d\n5812faf8f32e172b6890835a18d978b4bf3b9d18c57714995d325990df1e3c7e\na7a6a7b636e1d8f9cf51832179dfdd452d85dc27ff256a20d07f0de622c3096e\n3a93d49daf43f8355802c1431003927f05bbd049469dc63e09e48cd2e7a68507\n30181d49a5d424fee26d649733f538427395f6d3c3c3ece848ef27b8e7ec3e1b\n8acaf16449a3e793802e730b7213ec68469d1a6247d7808947f4d159e16dcbde\ne2f4e416355e555c4c56767f8c31a5f6dae95f44281053270957a4adc0dcdd49\n240c3ac8927477c2d7f3c56ab5502ae83d332ab87ef04c6bf88cec3e6ab9ba34\n56a0a4774e9f15cf96baa6bca8db9a7523f853c1e45650a6adf639f75bf26d87\n6387bb2259849ddc62e06efc76e931a132a570b0f1f86dd977d272670a818517\n4e6e22be0c413918535395e34259a2894329346f1c9755c4dbfc2dcb9eb7e517\nebc6c87cda4202dc6f7d8a8a2fb7587ece90ef95d70aeb33a2eff3ff82ed64d6\n"
     ]
    }
   ],
   "source": [
    "for row in db:\n",
    "    print(row.id)"
   ]
  },
  {
   "cell_type": "code",
   "execution_count": 114,
   "metadata": {},
   "outputs": [
    {
     "output_type": "stream",
     "name": "stdout",
     "text": [
      "2021-06-12 23:28:01,236 INFO sqlalchemy.engine.Engine SELECT estates.price AS estates_price, estates.note AS estates_note \n",
      "FROM estates\n",
      "2021-06-12 23:28:01,243 INFO sqlalchemy.engine.Engine [generated in 0.00717s] ()\n"
     ]
    }
   ],
   "source": [
    "db = db_session.query(Estate.price, Estate.note).all()"
   ]
  },
  {
   "cell_type": "code",
   "execution_count": 116,
   "metadata": {},
   "outputs": [
    {
     "output_type": "stream",
     "name": "stdout",
     "text": [
      "西習志野３（北習志野駅） 3480万円\n資料請求のみ大歓迎！ご案内も即日ご対応可能です！新規内装リフォーム済み中古…\n●２０２１年４月内・外装リフォーム済！●小・中学校安心の徒歩５分圏内！●閑…\n習志野台４（習志野駅） 580万円\n高野台３ 850万円\n松が丘３（高根木戸駅） 980万円\n丸山４（馬込沢駅） 990万円\n☆船橋市芝山６丁目中古戸建☆\n習志野台８（船橋日大前駅） 1980万円\n日の出２（船橋駅） 2180万円\n夏見台５ 2190万円\n前貝塚町（塚田駅） 2880万円\n前原東６（津田沼駅） 3199万円\n見学できます！一度に周辺の物件や環境も含めてご案内させていただきます♪ほと…\n◆土地広々約１３０坪◆広ーい庭があり、ガーデニング・バーベキュー等楽しめま…\n本中山１（下総中山駅） 8800万円\n前原東３（前原駅） 9980万円\n薬円台２（習志野駅） 3680万円\n【売主物件】新規内装リフォームお車を2台駐車できるワイドなカーポート\n芝山１（飯山満駅） 3980万円\n湊町２（船橋駅） 9600万円\n☆2路線利用可能！交通便利！☆ファミリー層の多い、閑静な住宅街♪☆スーパー…\n☆土地面積広々49.91坪☆駐車2台可能（車種規制有）☆全居室に収納がつい…\n◇船橋市栄町１丁目！◇生活利便性の良いエリアに佇む3階建て！◇JR船橋駅・…\n資料請求のみ大歓迎！ご案内も即日ご対応可能です！新規内装リフォーム済み中古…\n駐車２台可、浴室乾燥機、全居室収納、閑静な住宅地、ＬＤＫ１５畳以上、和室、…\n◆築9年！JR船橋駅徒歩圏内の希少物件です！◆南側が抜けているので陽当り◎…\n■北総線「小室」駅　徒歩約10分■南東側（幅員約9ｍ）公道（歩道あり）に面…\n小屋裏収納ほかたくさんの収納があり、スッキリと暮らせそうです。室内も明るく…\n2路線4駅利用可能！カースペース2台分有り☆駅徒歩1分の好立地☆事務所利用…\n資料請求のみ大歓迎！ご案内も即日ご対応可能です！平成築の大型戸建！東武アー…\n【築10年！オール電化の築浅戸建！】■4ＬＤＫ＋ＷＩＣ＋ウッドデッキ■JR…\n対面式キッチン採用のLDKは広々21畳。JR総武線「船橋」駅・「西船橋」駅…\n総武線「東船橋」駅徒歩8分土地面積50坪超の広いお庭でガーデニングが出来ま…\n資料請求のみ大歓迎！ご案内も即日ご対応可能です！ファミリータイプ3LDKの…\n築３年のデザイナーズ住宅！照明や壁紙にもこだわった広々物件。太陽光発電シス…\n2016年築の3LDK住戸！テレワークにも便利なカウンターあり！室内きれい…\n平成２８年６月築の築浅戸建てが出ました！！南側６ｍ公道に接道していて陽当り…\n☆2021年1月外装工事・内装リニューアル済み！☆3線路利用可能！新船橋駅…\n２沿線以上利用可、ＬＤＫ２０畳以上、土地50坪以上、システムキッチン、対面…\n●２世帯住宅　利用可能●キッチンにはIHヒーター搭載（1階はガスコンロにも…\n●大型５ＬＤＫ！●ご家族の会話がはずむ、開放的なＬＤＫは約２０帖！\n教育施設徒歩10分以内に揃う子育て世代に嬉しい立地。DIYをして自分好みの…\n◆外壁・屋根リフォーム済み！内装リフォームすればまだまだお住まいいただけま…\n◆約74坪の広々とした敷地でゆったりとした生活を送りませんか？◆建物はまだ…\n初めてのご来場＆アンケート回答で「ギフトカード2000円分＆選べる千疋屋ス…\n【本日ご内覧できます】アーバンパークライン「馬込沢」駅徒歩圏の閑静な住宅地…\n平成７年築！こだわりの注文住宅【ご案内随時受付中】２路線利用可能でアクセス…\nパナホーム施工の軽量鉄骨造の戸建♪室内部分的にリフォームされております♪駐…\n◆築４年の邸宅！子育て家族にやさしい小学校徒歩3分の好立地！◆住宅ローンの…\n【平成25年築　築浅物件】南向き陽当りの良いお家\n〇平成28年9月築浅戸建　●注宅機能評価・長期優良住宅取得住宅　〇木のすま…\n初めてのご来場＆アンケート回答で「ギフトカード2000円分＆選べる千疋屋ス…\n即日見学できます！一度に周辺の物件や環境も含めてご案内させていただきます♪…\n【本日も可能】ご見学、資料請求、住宅ローン相談、お気軽にどうぞ。玄関ホール…\n即日見学できます！一度に周辺の物件や環境も含めてご案内させていただきます♪…\n京成本線「海神」駅徒歩3分の私邸。角地につき風通し・陽当り良好、開放感がご…\n【都内へのアクセス良好の駅徒歩２分の立地にフルリフォーム物件！】南道路、南…\n◆ヘーベルハウス施工、長期優良住宅、住宅性能評価付きの安心な戸建♪◆太陽光…\n初めてのご来場＆アンケート回答で「ギフトカード2000円分＆選べる千疋屋ス…\n【令和2年 設備等リフォーム済！】南向きにつき日当たり良好！東武鉄道野田線…\n◆【ご希望の形にリフォームしませんか♪】注文住宅より価格が抑えられると人気…\n新高根６（飯山満駅） 680万円\n旭町１（塚田駅） 699万円\n◆敷地面積約４０坪　◆南向きですので陽当り良好・バルコニーも広ーい　◆収納…\n高野台４ 750万円\n飯山満町２（飯山満駅） 780万円\n◇東武野田線「馬込沢」駅18分◇閑静な住宅街に佇む2DK◇単身の方や新婚家…\n藤原７（馬込沢駅） 780万円\n"
     ]
    }
   ],
   "source": [
    "for row in db:\n",
    "    print(row.note)"
   ]
  },
  {
   "cell_type": "code",
   "execution_count": 127,
   "metadata": {},
   "outputs": [
    {
     "output_type": "stream",
     "name": "stdout",
     "text": [
      "2021-06-12 23:32:01,701 INFO sqlalchemy.engine.Engine SELECT estates.id AS estates_id, estates.note AS estates_note, estates.price AS estates_price, estates.shop AS estates_shop, estates.place AS estates_place, estates.prefecture AS estates_prefecture, estates.city AS estates_city, estates.station AS estates_station, estates.route AS estates_route, estates.work AS estates_work, estates.area AS estates_area, estates.buildingarea AS estates_buildingarea, estates.ldk AS estates_ldk, estates.buildingyear AS estates_buildingyear, estates.url AS estates_url, estates.created AS estates_created \n",
      "FROM estates \n",
      "WHERE estates.price > ?\n",
      "2021-06-12 23:32:01,703 INFO sqlalchemy.engine.Engine [cached since 160.1s ago] (2000,)\n",
      "3480 西習志野３（北習志野駅） 3480万円\n",
      "2180 日の出２（船橋駅） 2180万円\n",
      "2190 夏見台５ 2190万円\n",
      "2880 前貝塚町（塚田駅） 2880万円\n",
      "3199 前原東６（津田沼駅） 3199万円\n",
      "3980 見学できます！一度に周辺の物件や環境も含めてご案内させていただきます♪ほと…\n",
      "5880 ◆土地広々約１３０坪◆広ーい庭があり、ガーデニング・バーベキュー等楽しめま…\n",
      "8800 本中山１（下総中山駅） 8800万円\n",
      "9980 前原東３（前原駅） 9980万円\n",
      "3680 薬円台２（習志野駅） 3680万円\n",
      "3780 【売主物件】新規内装リフォームお車を2台駐車できるワイドなカーポート\n",
      "3980 芝山１（飯山満駅） 3980万円\n",
      "9600 湊町２（船橋駅） 9600万円\n",
      "2290 ◇船橋市栄町１丁目！◇生活利便性の良いエリアに佇む3階建て！◇JR船橋駅・…\n",
      "2400 資料請求のみ大歓迎！ご案内も即日ご対応可能です！新規内装リフォーム済み中古…\n",
      "2480 駐車２台可、浴室乾燥機、全居室収納、閑静な住宅地、ＬＤＫ１５畳以上、和室、…\n",
      "2480 ◆築9年！JR船橋駅徒歩圏内の希少物件です！◆南側が抜けているので陽当り◎…\n",
      "2480 ■北総線「小室」駅　徒歩約10分■南東側（幅員約9ｍ）公道（歩道あり）に面…\n",
      "2780 小屋裏収納ほかたくさんの収納があり、スッキリと暮らせそうです。室内も明るく…\n",
      "2980 2路線4駅利用可能！カースペース2台分有り☆駅徒歩1分の好立地☆事務所利用…\n",
      "3250 資料請求のみ大歓迎！ご案内も即日ご対応可能です！平成築の大型戸建！東武アー…\n",
      "3280 【築10年！オール電化の築浅戸建！】■4ＬＤＫ＋ＷＩＣ＋ウッドデッキ■JR…\n",
      "3880 対面式キッチン採用のLDKは広々21畳。JR総武線「船橋」駅・「西船橋」駅…\n",
      "4280 総武線「東船橋」駅徒歩8分土地面積50坪超の広いお庭でガーデニングが出来ま…\n",
      "4380 資料請求のみ大歓迎！ご案内も即日ご対応可能です！ファミリータイプ3LDKの…\n",
      "4480 築３年のデザイナーズ住宅！照明や壁紙にもこだわった広々物件。太陽光発電シス…\n",
      "4480 2016年築の3LDK住戸！テレワークにも便利なカウンターあり！室内きれい…\n",
      "4680 平成２８年６月築の築浅戸建てが出ました！！南側６ｍ公道に接道していて陽当り…\n",
      "4790 ☆2021年1月外装工事・内装リニューアル済み！☆3線路利用可能！新船橋駅…\n",
      "4880 ２沿線以上利用可、ＬＤＫ２０畳以上、土地50坪以上、システムキッチン、対面…\n",
      "7480 ●２世帯住宅　利用可能●キッチンにはIHヒーター搭載（1階はガスコンロにも…\n",
      "2380 ◆築４年の邸宅！子育て家族にやさしい小学校徒歩3分の好立地！◆住宅ローンの…\n",
      "2380 【平成25年築　築浅物件】南向き陽当りの良いお家\n",
      "2430 〇平成28年9月築浅戸建　●注宅機能評価・長期優良住宅取得住宅　〇木のすま…\n",
      "2480 初めてのご来場＆アンケート回答で「ギフトカード2000円分＆選べる千疋屋ス…\n",
      "2500 即日見学できます！一度に周辺の物件や環境も含めてご案内させていただきます♪…\n",
      "2740 【本日も可能】ご見学、資料請求、住宅ローン相談、お気軽にどうぞ。玄関ホール…\n",
      "3280 即日見学できます！一度に周辺の物件や環境も含めてご案内させていただきます♪…\n",
      "3580 京成本線「海神」駅徒歩3分の私邸。角地につき風通し・陽当り良好、開放感がご…\n",
      "3680 【都内へのアクセス良好の駅徒歩２分の立地にフルリフォーム物件！】南道路、南…\n",
      "4850 ◆ヘーベルハウス施工、長期優良住宅、住宅性能評価付きの安心な戸建♪◆太陽光…\n",
      "9000 初めてのご来場＆アンケート回答で「ギフトカード2000円分＆選べる千疋屋ス…\n"
     ]
    }
   ],
   "source": [
    "db = db_session.query(Estate).filter(Estate.price>2000).all()\n",
    "for row in db:\n",
    "    print(row.price, row.note)"
   ]
  },
  {
   "cell_type": "code",
   "execution_count": 126,
   "metadata": {},
   "outputs": [
    {
     "output_type": "stream",
     "name": "stdout",
     "text": [
      "2021-06-12 23:31:35,180 INFO sqlalchemy.engine.Engine SELECT estates.id AS estates_id, estates.note AS estates_note, estates.price AS estates_price, estates.shop AS estates_shop, estates.place AS estates_place, estates.prefecture AS estates_prefecture, estates.city AS estates_city, estates.station AS estates_station, estates.route AS estates_route, estates.work AS estates_work, estates.area AS estates_area, estates.buildingarea AS estates_buildingarea, estates.ldk AS estates_ldk, estates.buildingyear AS estates_buildingyear, estates.url AS estates_url, estates.created AS estates_created \n",
      "FROM estates \n",
      "WHERE estates.price > ?\n",
      " LIMIT ? OFFSET ?\n",
      "2021-06-12 23:31:35,182 INFO sqlalchemy.engine.Engine [generated in 0.00184s] (2000, 5, 0)\n",
      "3480 西習志野３（北習志野駅） 3480万円\n",
      "2180 日の出２（船橋駅） 2180万円\n",
      "2190 夏見台５ 2190万円\n",
      "2880 前貝塚町（塚田駅） 2880万円\n",
      "3199 前原東６（津田沼駅） 3199万円\n"
     ]
    }
   ],
   "source": [
    "db = db_session.query(Estate).filter(Estate.price>2000).limit(5).all()\n",
    "for row in db:\n",
    "    print(row.price, row.note)"
   ]
  },
  {
   "cell_type": "code",
   "execution_count": 128,
   "metadata": {},
   "outputs": [
    {
     "output_type": "stream",
     "name": "stdout",
     "text": [
      "2021-06-12 23:33:25,756 INFO sqlalchemy.engine.Engine SELECT estates.id AS estates_id, estates.note AS estates_note, estates.price AS estates_price, estates.shop AS estates_shop, estates.place AS estates_place, estates.prefecture AS estates_prefecture, estates.city AS estates_city, estates.station AS estates_station, estates.route AS estates_route, estates.work AS estates_work, estates.area AS estates_area, estates.buildingarea AS estates_buildingarea, estates.ldk AS estates_ldk, estates.buildingyear AS estates_buildingyear, estates.url AS estates_url, estates.created AS estates_created \n",
      "FROM estates \n",
      "WHERE estates.price > ? ORDER BY estates.price DESC\n",
      "2021-06-12 23:33:25,759 INFO sqlalchemy.engine.Engine [generated in 0.00244s] (2000,)\n",
      "9980 前原東３（前原駅） 9980万円\n",
      "9600 湊町２（船橋駅） 9600万円\n",
      "9000 初めてのご来場＆アンケート回答で「ギフトカード2000円分＆選べる千疋屋ス…\n",
      "8800 本中山１（下総中山駅） 8800万円\n",
      "7480 ●２世帯住宅　利用可能●キッチンにはIHヒーター搭載（1階はガスコンロにも…\n",
      "5880 ◆土地広々約１３０坪◆広ーい庭があり、ガーデニング・バーベキュー等楽しめま…\n",
      "4880 ２沿線以上利用可、ＬＤＫ２０畳以上、土地50坪以上、システムキッチン、対面…\n",
      "4850 ◆ヘーベルハウス施工、長期優良住宅、住宅性能評価付きの安心な戸建♪◆太陽光…\n",
      "4790 ☆2021年1月外装工事・内装リニューアル済み！☆3線路利用可能！新船橋駅…\n",
      "4680 平成２８年６月築の築浅戸建てが出ました！！南側６ｍ公道に接道していて陽当り…\n",
      "4480 築３年のデザイナーズ住宅！照明や壁紙にもこだわった広々物件。太陽光発電シス…\n",
      "4480 2016年築の3LDK住戸！テレワークにも便利なカウンターあり！室内きれい…\n",
      "4380 資料請求のみ大歓迎！ご案内も即日ご対応可能です！ファミリータイプ3LDKの…\n",
      "4280 総武線「東船橋」駅徒歩8分土地面積50坪超の広いお庭でガーデニングが出来ま…\n",
      "3980 見学できます！一度に周辺の物件や環境も含めてご案内させていただきます♪ほと…\n",
      "3980 芝山１（飯山満駅） 3980万円\n",
      "3880 対面式キッチン採用のLDKは広々21畳。JR総武線「船橋」駅・「西船橋」駅…\n",
      "3780 【売主物件】新規内装リフォームお車を2台駐車できるワイドなカーポート\n",
      "3680 薬円台２（習志野駅） 3680万円\n",
      "3680 【都内へのアクセス良好の駅徒歩２分の立地にフルリフォーム物件！】南道路、南…\n",
      "3580 京成本線「海神」駅徒歩3分の私邸。角地につき風通し・陽当り良好、開放感がご…\n",
      "3480 西習志野３（北習志野駅） 3480万円\n",
      "3280 【築10年！オール電化の築浅戸建！】■4ＬＤＫ＋ＷＩＣ＋ウッドデッキ■JR…\n",
      "3280 即日見学できます！一度に周辺の物件や環境も含めてご案内させていただきます♪…\n",
      "3250 資料請求のみ大歓迎！ご案内も即日ご対応可能です！平成築の大型戸建！東武アー…\n",
      "3199 前原東６（津田沼駅） 3199万円\n",
      "2980 2路線4駅利用可能！カースペース2台分有り☆駅徒歩1分の好立地☆事務所利用…\n",
      "2880 前貝塚町（塚田駅） 2880万円\n",
      "2780 小屋裏収納ほかたくさんの収納があり、スッキリと暮らせそうです。室内も明るく…\n",
      "2740 【本日も可能】ご見学、資料請求、住宅ローン相談、お気軽にどうぞ。玄関ホール…\n",
      "2500 即日見学できます！一度に周辺の物件や環境も含めてご案内させていただきます♪…\n",
      "2480 駐車２台可、浴室乾燥機、全居室収納、閑静な住宅地、ＬＤＫ１５畳以上、和室、…\n",
      "2480 ◆築9年！JR船橋駅徒歩圏内の希少物件です！◆南側が抜けているので陽当り◎…\n",
      "2480 ■北総線「小室」駅　徒歩約10分■南東側（幅員約9ｍ）公道（歩道あり）に面…\n",
      "2480 初めてのご来場＆アンケート回答で「ギフトカード2000円分＆選べる千疋屋ス…\n",
      "2430 〇平成28年9月築浅戸建　●注宅機能評価・長期優良住宅取得住宅　〇木のすま…\n",
      "2400 資料請求のみ大歓迎！ご案内も即日ご対応可能です！新規内装リフォーム済み中古…\n",
      "2380 ◆築４年の邸宅！子育て家族にやさしい小学校徒歩3分の好立地！◆住宅ローンの…\n",
      "2380 【平成25年築　築浅物件】南向き陽当りの良いお家\n",
      "2290 ◇船橋市栄町１丁目！◇生活利便性の良いエリアに佇む3階建て！◇JR船橋駅・…\n",
      "2190 夏見台５ 2190万円\n",
      "2180 日の出２（船橋駅） 2180万円\n"
     ]
    }
   ],
   "source": [
    "from sqlalchemy import desc\n",
    "db = db_session.query(Estate).filter(Estate.price>2000).order_by(desc(Estate.price)).all()\n",
    "for row in db:\n",
    "    print(row.price, row.note)"
   ]
  },
  {
   "cell_type": "code",
   "execution_count": 131,
   "metadata": {},
   "outputs": [],
   "source": [
    "estate = Estate(id='test', note='test', price=9999, prefecture='', city='')"
   ]
  },
  {
   "cell_type": "code",
   "execution_count": 132,
   "metadata": {},
   "outputs": [
    {
     "output_type": "stream",
     "name": "stdout",
     "text": [
      "2021-06-12 23:35:40,088 INFO sqlalchemy.engine.Engine INSERT INTO estates (id, note, price, shop, place, prefecture, city, station, route, work, area, buildingarea, ldk, buildingyear, url, created) VALUES (?, ?, ?, ?, ?, ?, ?, ?, ?, ?, ?, ?, ?, ?, ?, ?)\n",
      "2021-06-12 23:35:40,090 INFO sqlalchemy.engine.Engine [cached since 860.8s ago] ('test', 'test', 9999, None, None, '', '', None, None, None, None, None, None, None, None, None)\n",
      "2021-06-12 23:35:40,111 INFO sqlalchemy.engine.Engine COMMIT\n"
     ]
    }
   ],
   "source": [
    "db_session.add(estate)\n",
    "db_session.commit()"
   ]
  },
  {
   "cell_type": "code",
   "execution_count": 136,
   "metadata": {},
   "outputs": [
    {
     "output_type": "stream",
     "name": "stdout",
     "text": [
      "2021-06-12 23:38:52,742 INFO sqlalchemy.engine.Engine SELECT estates.id AS estates_id, estates.note AS estates_note, estates.price AS estates_price, estates.shop AS estates_shop, estates.place AS estates_place, estates.prefecture AS estates_prefecture, estates.city AS estates_city, estates.station AS estates_station, estates.route AS estates_route, estates.work AS estates_work, estates.area AS estates_area, estates.buildingarea AS estates_buildingarea, estates.ldk AS estates_ldk, estates.buildingyear AS estates_buildingyear, estates.url AS estates_url, estates.created AS estates_created \n",
      "FROM estates \n",
      "WHERE estates.id = ?\n",
      "2021-06-12 23:38:52,744 INFO sqlalchemy.engine.Engine [cached since 1157s ago] ('test',)\n",
      "{'_sa_instance_state': <sqlalchemy.orm.state.InstanceState object at 0x7f06b256a3d0>, 'note': 'test', 'shop': None, 'prefecture': '', 'city': '', 'route': None, 'area': None, 'ldk': None, 'url': None, 'price': 9999, 'id': 'test', 'place': None, 'station': None, 'work': None, 'buildingarea': None, 'buildingyear': None, 'created': None}\n"
     ]
    }
   ],
   "source": [
    "db = db_session.query(Estate).filter(Estate.id=='test').all()\n",
    "for row in db:\n",
    "    print(row.__dict__)"
   ]
  },
  {
   "cell_type": "code",
   "execution_count": 142,
   "metadata": {},
   "outputs": [
    {
     "output_type": "stream",
     "name": "stdout",
     "text": [
      "2021-06-13 00:18:08,339 INFO sqlalchemy.engine.Engine BEGIN (implicit)\n",
      "2021-06-13 00:18:08,340 INFO sqlalchemy.engine.Engine SELECT estates.id AS estates_id, estates.note AS estates_note, estates.price AS estates_price, estates.shop AS estates_shop, estates.place AS estates_place, estates.prefecture AS estates_prefecture, estates.city AS estates_city, estates.station AS estates_station, estates.route AS estates_route, estates.work AS estates_work, estates.area AS estates_area, estates.buildingarea AS estates_buildingarea, estates.ldk AS estates_ldk, estates.buildingyear AS estates_buildingyear, estates.url AS estates_url, estates.created AS estates_created \n",
      "FROM estates \n",
      "WHERE estates.id = ?\n",
      " LIMIT ? OFFSET ?\n",
      "2021-06-13 00:18:08,341 INFO sqlalchemy.engine.Engine [cached since 154.2s ago] ('test', 1, 0)\n"
     ]
    }
   ],
   "source": [
    "db = db_session.query(Estate).filter(Estate.id=='test').first()"
   ]
  },
  {
   "cell_type": "code",
   "execution_count": 138,
   "metadata": {},
   "outputs": [
    {
     "output_type": "stream",
     "name": "stdout",
     "text": [
      "2021-06-13 00:16:47,282 INFO sqlalchemy.engine.Engine UPDATE estates SET note=? WHERE estates.id = ?\n",
      "2021-06-13 00:16:47,284 INFO sqlalchemy.engine.Engine [generated in 0.00168s] ('実験です！', 'test')\n",
      "2021-06-13 00:16:47,297 INFO sqlalchemy.engine.Engine COMMIT\n"
     ]
    }
   ],
   "source": [
    "db.note='実験です！'\n",
    "db_session.commit()"
   ]
  },
  {
   "cell_type": "code",
   "execution_count": 146,
   "metadata": {},
   "outputs": [
    {
     "output_type": "stream",
     "name": "stdout",
     "text": [
      "2021-06-13 00:20:47,706 INFO sqlalchemy.engine.Engine DELETE FROM estates WHERE estates.id = ?\n",
      "2021-06-13 00:20:47,708 INFO sqlalchemy.engine.Engine [generated in 0.00148s] ('test',)\n"
     ]
    },
    {
     "output_type": "execute_result",
     "data": {
      "text/plain": [
       "1"
      ]
     },
     "metadata": {},
     "execution_count": 146
    }
   ],
   "source": [
    "db_session.query(Estate).filter(Estate.id=='test').delete()"
   ]
  },
  {
   "cell_type": "code",
   "execution_count": 147,
   "metadata": {},
   "outputs": [
    {
     "output_type": "stream",
     "name": "stdout",
     "text": [
      "2021-06-13 00:21:55,578 INFO sqlalchemy.engine.Engine SELECT estates.id AS estates_id, estates.note AS estates_note, estates.price AS estates_price, estates.shop AS estates_shop, estates.place AS estates_place, estates.prefecture AS estates_prefecture, estates.city AS estates_city, estates.station AS estates_station, estates.route AS estates_route, estates.work AS estates_work, estates.area AS estates_area, estates.buildingarea AS estates_buildingarea, estates.ldk AS estates_ldk, estates.buildingyear AS estates_buildingyear, estates.url AS estates_url, estates.created AS estates_created \n",
      "FROM estates \n",
      "WHERE estates.id = ?\n",
      "2021-06-13 00:21:55,580 INFO sqlalchemy.engine.Engine [cached since 3740s ago] ('test',)\n"
     ]
    },
    {
     "output_type": "execute_result",
     "data": {
      "text/plain": [
       "0"
      ]
     },
     "metadata": {},
     "execution_count": 147
    }
   ],
   "source": [
    "db = db_session.query(Estate).filter(Estate.id=='test').all()\n",
    "len(db)\n"
   ]
  },
  {
   "cell_type": "code",
   "execution_count": null,
   "metadata": {},
   "outputs": [],
   "source": []
  }
 ]
}